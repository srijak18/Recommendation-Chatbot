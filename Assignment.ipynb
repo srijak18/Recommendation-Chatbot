{
  "cells": [
    {
      "cell_type": "code",
      "execution_count": null,
      "metadata": {
        "colab": {
          "base_uri": "https://localhost:8080/"
        },
        "id": "WObxrTBLPIZD",
        "outputId": "8e3cdfac-a314-4a65-e7ef-ebd84135a4f1"
      },
      "outputs": [
        {
          "name": "stdout",
          "output_type": "stream",
          "text": [
            "Dataset generated successfully!\n"
          ]
        }
      ],
      "source": [
        "import pandas as pd\n",
        "import random\n",
        "\n",
        "# Define age groups\n",
        "age_groups = [\"15-25\", \"26-35\", \"36-45\", \"46-60\"]\n",
        "\n",
        "# Define locations and their corresponding climates with at least 3 cities per state and UT\n",
        "locations = {\n",
        "    \"Mumbai\": \"Humid\", \"Pune\": \"Humid\", \"Nagpur\": \"Humid\",\n",
        "    \"Delhi\": \"Extreme\", \"Noida\": \"Extreme\", \"Gurgaon\": \"Extreme\",\n",
        "    \"Bangalore\": \"Moderate\", \"Mysore\": \"Moderate\", \"Hubli\": \"Moderate\",\n",
        "    \"Chennai\": \"Hot & Humid\", \"Coimbatore\": \"Hot & Humid\", \"Madurai\": \"Hot & Humid\",\n",
        "    \"Kolkata\": \"Tropical\", \"Siliguri\": \"Tropical\", \"Durgapur\": \"Tropical\",\n",
        "    \"Shimla\": \"Cold\", \"Manali\": \"Cold\", \"Dharamshala\": \"Cold\",\n",
        "    \"Goa\": \"Coastal\", \"Panaji\": \"Coastal\", \"Margao\": \"Coastal\",\n",
        "    \"Jaipur\": \"Dry & Hot\", \"Jodhpur\": \"Dry & Hot\", \"Udaipur\": \"Dry & Hot\",\n",
        "    \"Hyderabad\": \"Warm\", \"Warangal\": \"Warm\", \"Nizamabad\": \"Warm\",\n",
        "    \"Aizawl\": \"Tropical\", \"Agartala\": \"Tropical\", \"Imphal\": \"Tropical\",\n",
        "    \"Port Blair\": \"Coastal\", \"Daman\": \"Coastal\", \"Kavaratti\": \"Coastal\",\n",
        "    \"Leh\": \"Cold\", \"Kargil\": \"Cold\", \"Dras\": \"Cold\",\n",
        "    \"Guwahati\": \"Humid\", \"Dibrugarh\": \"Humid\", \"Silchar\": \"Humid\",\n",
        "    \"Patna\": \"Extreme\", \"Gaya\": \"Extreme\", \"Muzaffarpur\": \"Extreme\",\n",
        "    \"Bhopal\": \"Moderate\", \"Indore\": \"Moderate\", \"Jabalpur\": \"Moderate\",\n",
        "    \"Lucknow\": \"Extreme\", \"Kanpur\": \"Extreme\", \"Varanasi\": \"Extreme\",\n",
        "    \"Chandigarh\": \"Moderate\", \"Mohali\": \"Moderate\", \"Panchkula\": \"Moderate\",\n",
        "    \"Ranchi\": \"Tropical\", \"Jamshedpur\": \"Tropical\", \"Dhanbad\": \"Tropical\",\n",
        "    \"Itanagar\": \"Tropical\", \"Shillong\": \"Tropical\", \"Kohima\": \"Tropical\",\n",
        "    \"Dehradun\": \"Cold\", \"Nainital\": \"Cold\", \"Mussoorie\": \"Cold\",\n",
        "    \"Vijayawada\": \"Warm\", \"Vizag\": \"Coastal\", \"Chittoor\": \"Moderate\"\n",
        "}\n",
        "\n",
        "# Define recommendations based on climate\n",
        "recommendations = {\n",
        "    \"Humid\": {\"travel\": \"Matheran\", \"food\": \"Kokum Sharbat\", \"wellness\": \"Cooling Yoga\"},\n",
        "    \"Extreme\": {\"travel\": \"Nainital\", \"food\": \"Lassi\", \"wellness\": \"Meditation\"},\n",
        "    \"Moderate\": {\"travel\": \"Coorg\", \"food\": \"Dosa\", \"wellness\": \"Morning Walks\"},\n",
        "    \"Hot & Humid\": {\"travel\": \"Ooty\", \"food\": \"Buttermilk\", \"wellness\": \"Hydrotherapy\"},\n",
        "    \"Tropical\": {\"travel\": \"Sundarbans\", \"food\": \"Fish Curry\", \"wellness\": \"Ayurvedic Massage\"},\n",
        "    \"Cold\": {\"travel\": \"Gulmarg\", \"food\": \"Kahwa\", \"wellness\": \"Hot Stone Therapy\"},\n",
        "    \"Coastal\": {\"travel\": \"Andaman\", \"food\": \"Seafood Platter\", \"wellness\": \"Beach Yoga\"},\n",
        "    \"Dry & Hot\": {\"travel\": \"Mount Abu\", \"food\": \"Aam Panna\", \"wellness\": \"Cooling Spa\"},\n",
        "    \"Warm\": {\"travel\": \"Araku Valley\", \"food\": \"Ragi Mudde\", \"wellness\": \"Evening Meditation\"}\n",
        "}\n",
        "\n",
        "# Generate dataset with different age groups for each city\n",
        "users_data = []\n",
        "for location, climate in locations.items():\n",
        "    for age_group in age_groups:\n",
        "        for preference in [\"travel\", \"food\", \"wellness\"]:\n",
        "            recommendation = recommendations[climate][preference]\n",
        "            users_data.append([age_group, location, climate, preference, recommendation])\n",
        "\n",
        "# Create DataFrame\n",
        "df = pd.DataFrame(users_data, columns=[\"Age Group\", \"Location\", \"Climate\", \"Preference\", \"Recommendation\"])\n",
        "\n",
        "# Save to CSV\n",
        "df.to_csv(\"india_recommendation_dataset.csv\", index=False)\n",
        "print(\"Dataset generated successfully!\")\n"
      ]
    },
    {
      "cell_type": "code",
      "source": [
        "!curl ifconfig.me"
      ],
      "metadata": {
        "colab": {
          "base_uri": "https://localhost:8080/"
        },
        "id": "lmQyMHayHN0D",
        "outputId": "8724da54-ae82-4efc-a015-57194f58c9d5"
      },
      "execution_count": 8,
      "outputs": [
        {
          "output_type": "stream",
          "name": "stdout",
          "text": [
            "34.73.23.25"
          ]
        }
      ]
    },
    {
      "cell_type": "code",
      "source": [
        "!pip install streamlit"
      ],
      "metadata": {
        "colab": {
          "base_uri": "https://localhost:8080/"
        },
        "id": "qMQlX3B8GkBc",
        "outputId": "6ad790fb-7e5d-4959-d29c-6a535321b7ab"
      },
      "execution_count": 5,
      "outputs": [
        {
          "output_type": "stream",
          "name": "stdout",
          "text": [
            "Collecting streamlit\n",
            "  Downloading streamlit-1.43.2-py2.py3-none-any.whl.metadata (8.9 kB)\n",
            "Requirement already satisfied: altair<6,>=4.0 in /usr/local/lib/python3.11/dist-packages (from streamlit) (5.5.0)\n",
            "Requirement already satisfied: blinker<2,>=1.0.0 in /usr/local/lib/python3.11/dist-packages (from streamlit) (1.9.0)\n",
            "Requirement already satisfied: cachetools<6,>=4.0 in /usr/local/lib/python3.11/dist-packages (from streamlit) (5.5.2)\n",
            "Requirement already satisfied: click<9,>=7.0 in /usr/local/lib/python3.11/dist-packages (from streamlit) (8.1.8)\n",
            "Requirement already satisfied: numpy<3,>=1.23 in /usr/local/lib/python3.11/dist-packages (from streamlit) (2.0.2)\n",
            "Requirement already satisfied: packaging<25,>=20 in /usr/local/lib/python3.11/dist-packages (from streamlit) (24.2)\n",
            "Requirement already satisfied: pandas<3,>=1.4.0 in /usr/local/lib/python3.11/dist-packages (from streamlit) (2.2.2)\n",
            "Requirement already satisfied: pillow<12,>=7.1.0 in /usr/local/lib/python3.11/dist-packages (from streamlit) (11.1.0)\n",
            "Requirement already satisfied: protobuf<6,>=3.20 in /usr/local/lib/python3.11/dist-packages (from streamlit) (5.29.3)\n",
            "Requirement already satisfied: pyarrow>=7.0 in /usr/local/lib/python3.11/dist-packages (from streamlit) (18.1.0)\n",
            "Requirement already satisfied: requests<3,>=2.27 in /usr/local/lib/python3.11/dist-packages (from streamlit) (2.32.3)\n",
            "Requirement already satisfied: tenacity<10,>=8.1.0 in /usr/local/lib/python3.11/dist-packages (from streamlit) (9.0.0)\n",
            "Requirement already satisfied: toml<2,>=0.10.1 in /usr/local/lib/python3.11/dist-packages (from streamlit) (0.10.2)\n",
            "Requirement already satisfied: typing-extensions<5,>=4.4.0 in /usr/local/lib/python3.11/dist-packages (from streamlit) (4.12.2)\n",
            "Collecting watchdog<7,>=2.1.5 (from streamlit)\n",
            "  Downloading watchdog-6.0.0-py3-none-manylinux2014_x86_64.whl.metadata (44 kB)\n",
            "\u001b[2K     \u001b[90m━━━━━━━━━━━━━━━━━━━━━━━━━━━━━━━━━━━━━━━━\u001b[0m \u001b[32m44.3/44.3 kB\u001b[0m \u001b[31m2.0 MB/s\u001b[0m eta \u001b[36m0:00:00\u001b[0m\n",
            "\u001b[?25hRequirement already satisfied: gitpython!=3.1.19,<4,>=3.0.7 in /usr/local/lib/python3.11/dist-packages (from streamlit) (3.1.44)\n",
            "Collecting pydeck<1,>=0.8.0b4 (from streamlit)\n",
            "  Downloading pydeck-0.9.1-py2.py3-none-any.whl.metadata (4.1 kB)\n",
            "Requirement already satisfied: tornado<7,>=6.0.3 in /usr/local/lib/python3.11/dist-packages (from streamlit) (6.4.2)\n",
            "Requirement already satisfied: jinja2 in /usr/local/lib/python3.11/dist-packages (from altair<6,>=4.0->streamlit) (3.1.6)\n",
            "Requirement already satisfied: jsonschema>=3.0 in /usr/local/lib/python3.11/dist-packages (from altair<6,>=4.0->streamlit) (4.23.0)\n",
            "Requirement already satisfied: narwhals>=1.14.2 in /usr/local/lib/python3.11/dist-packages (from altair<6,>=4.0->streamlit) (1.31.0)\n",
            "Requirement already satisfied: gitdb<5,>=4.0.1 in /usr/local/lib/python3.11/dist-packages (from gitpython!=3.1.19,<4,>=3.0.7->streamlit) (4.0.12)\n",
            "Requirement already satisfied: python-dateutil>=2.8.2 in /usr/local/lib/python3.11/dist-packages (from pandas<3,>=1.4.0->streamlit) (2.8.2)\n",
            "Requirement already satisfied: pytz>=2020.1 in /usr/local/lib/python3.11/dist-packages (from pandas<3,>=1.4.0->streamlit) (2025.1)\n",
            "Requirement already satisfied: tzdata>=2022.7 in /usr/local/lib/python3.11/dist-packages (from pandas<3,>=1.4.0->streamlit) (2025.1)\n",
            "Requirement already satisfied: charset-normalizer<4,>=2 in /usr/local/lib/python3.11/dist-packages (from requests<3,>=2.27->streamlit) (3.4.1)\n",
            "Requirement already satisfied: idna<4,>=2.5 in /usr/local/lib/python3.11/dist-packages (from requests<3,>=2.27->streamlit) (3.10)\n",
            "Requirement already satisfied: urllib3<3,>=1.21.1 in /usr/local/lib/python3.11/dist-packages (from requests<3,>=2.27->streamlit) (2.3.0)\n",
            "Requirement already satisfied: certifi>=2017.4.17 in /usr/local/lib/python3.11/dist-packages (from requests<3,>=2.27->streamlit) (2025.1.31)\n",
            "Requirement already satisfied: smmap<6,>=3.0.1 in /usr/local/lib/python3.11/dist-packages (from gitdb<5,>=4.0.1->gitpython!=3.1.19,<4,>=3.0.7->streamlit) (5.0.2)\n",
            "Requirement already satisfied: MarkupSafe>=2.0 in /usr/local/lib/python3.11/dist-packages (from jinja2->altair<6,>=4.0->streamlit) (3.0.2)\n",
            "Requirement already satisfied: attrs>=22.2.0 in /usr/local/lib/python3.11/dist-packages (from jsonschema>=3.0->altair<6,>=4.0->streamlit) (25.3.0)\n",
            "Requirement already satisfied: jsonschema-specifications>=2023.03.6 in /usr/local/lib/python3.11/dist-packages (from jsonschema>=3.0->altair<6,>=4.0->streamlit) (2024.10.1)\n",
            "Requirement already satisfied: referencing>=0.28.4 in /usr/local/lib/python3.11/dist-packages (from jsonschema>=3.0->altair<6,>=4.0->streamlit) (0.36.2)\n",
            "Requirement already satisfied: rpds-py>=0.7.1 in /usr/local/lib/python3.11/dist-packages (from jsonschema>=3.0->altair<6,>=4.0->streamlit) (0.23.1)\n",
            "Requirement already satisfied: six>=1.5 in /usr/local/lib/python3.11/dist-packages (from python-dateutil>=2.8.2->pandas<3,>=1.4.0->streamlit) (1.17.0)\n",
            "Downloading streamlit-1.43.2-py2.py3-none-any.whl (9.7 MB)\n",
            "\u001b[2K   \u001b[90m━━━━━━━━━━━━━━━━━━━━━━━━━━━━━━━━━━━━━━━━\u001b[0m \u001b[32m9.7/9.7 MB\u001b[0m \u001b[31m56.5 MB/s\u001b[0m eta \u001b[36m0:00:00\u001b[0m\n",
            "\u001b[?25hDownloading pydeck-0.9.1-py2.py3-none-any.whl (6.9 MB)\n",
            "\u001b[2K   \u001b[90m━━━━━━━━━━━━━━━━━━━━━━━━━━━━━━━━━━━━━━━━\u001b[0m \u001b[32m6.9/6.9 MB\u001b[0m \u001b[31m88.9 MB/s\u001b[0m eta \u001b[36m0:00:00\u001b[0m\n",
            "\u001b[?25hDownloading watchdog-6.0.0-py3-none-manylinux2014_x86_64.whl (79 kB)\n",
            "\u001b[2K   \u001b[90m━━━━━━━━━━━━━━━━━━━━━━━━━━━━━━━━━━━━━━━━\u001b[0m \u001b[32m79.1/79.1 kB\u001b[0m \u001b[31m6.3 MB/s\u001b[0m eta \u001b[36m0:00:00\u001b[0m\n",
            "\u001b[?25hInstalling collected packages: watchdog, pydeck, streamlit\n",
            "Successfully installed pydeck-0.9.1 streamlit-1.43.2 watchdog-6.0.0\n"
          ]
        }
      ]
    },
    {
      "cell_type": "code",
      "source": [
        "import pandas as pd\n",
        "import random\n",
        "import numpy as np\n",
        "import streamlit as st\n",
        "from textblob import TextBlob\n",
        "from difflib import get_close_matches\n",
        "from sklearn.feature_extraction.text import CountVectorizer\n",
        "from sklearn.metrics.pairwise import cosine_similarity\n",
        "from sklearn.model_selection import train_test_split\n",
        "from sklearn.ensemble import RandomForestClassifier\n",
        "\n",
        "# Load dataset\n",
        "df = pd.read_csv(\"/content/india_recommendation_dataset (3).csv\")\n",
        "\n",
        "# Train ML model\n",
        "vectorizer = CountVectorizer()\n",
        "X = vectorizer.fit_transform(df[\"Location\"] + \" \" + df[\"Climate\"] + \" \" + df[\"Age Group\"])\n",
        "y = df[\"Recommendation\"]\n",
        "X_train, X_test, y_train, y_test = train_test_split(X, y, test_size=0.2, random_state=42)\n",
        "clf = RandomForestClassifier()\n",
        "clf.fit(X_train, y_train)\n",
        "\n",
        "# Chatbot function\n",
        "def chatbot(location, age_group, sentiment_text):\n",
        "    if location not in df[\"Location\"].values:\n",
        "        closest_match = get_close_matches(location, df[\"City\"].unique(), n=1)\n",
        "        if closest_match:\n",
        "            location = closest_match[0]\n",
        "        else:\n",
        "            return \"Sorry, we don't have data for your location.\"\n",
        "\n",
        "    climate = df[df[\"Location\"] == location][\"Climate\"].values[0]\n",
        "    sentiment = TextBlob(sentiment_text).sentiment.polarity\n",
        "    preference = \"wellness\" if sentiment < -0.2 else \"food\" if sentiment < 0.2 else \"travel\"\n",
        "\n",
        "    query_vector = vectorizer.transform([f\"{location} {climate} {age_group}\"])\n",
        "    prediction = clf.predict(query_vector)[0]\n",
        "\n",
        "    return f\"For age group {age_group} in {location} ({climate} climate), we recommend: {prediction} ({preference}).\"\n",
        "\n",
        "# Streamlit UI\n",
        "st.title(\"AI Recommendation Chatbot 🤖\")\n",
        "st.write(\"Enter your details below to get personalized recommendations.\")\n",
        "\n",
        "location = st.text_input(\"Enter City:\")\n",
        "age_group = st.selectbox(\"Select Age Group:\", df[\"Age Group\"].unique())\n",
        "sentiment_text = st.text_area(\"How do you feel today?\")\n",
        "\n",
        "if st.button(\"Get Recommendation\"):\n",
        "    if location and sentiment_text:\n",
        "        result = chatbot(location, age_group, sentiment_text)\n",
        "        st.success(result)\n",
        "    else:\n",
        "        st.error(\"Please enter all details.\")\n",
        "\n",
        "# Run this script in Colab:\n",
        "# !streamlit run app.py & npx localtunnel --port 8501\n"
      ],
      "metadata": {
        "colab": {
          "base_uri": "https://localhost:8080/"
        },
        "id": "n9Yy6MiaGmcl",
        "outputId": "567a1613-fdeb-4d4c-daee-c750bb55a140"
      },
      "execution_count": 6,
      "outputs": [
        {
          "output_type": "stream",
          "name": "stderr",
          "text": [
            "2025-03-23 13:05:20.280 WARNING streamlit.runtime.scriptrunner_utils.script_run_context: Thread 'MainThread': missing ScriptRunContext! This warning can be ignored when running in bare mode.\n",
            "2025-03-23 13:05:20.487 \n",
            "  \u001b[33m\u001b[1mWarning:\u001b[0m to view this Streamlit app on a browser, run it with the following\n",
            "  command:\n",
            "\n",
            "    streamlit run /usr/local/lib/python3.11/dist-packages/colab_kernel_launcher.py [ARGUMENTS]\n",
            "2025-03-23 13:05:20.488 Thread 'MainThread': missing ScriptRunContext! This warning can be ignored when running in bare mode.\n",
            "2025-03-23 13:05:20.491 Thread 'MainThread': missing ScriptRunContext! This warning can be ignored when running in bare mode.\n",
            "2025-03-23 13:05:20.492 Thread 'MainThread': missing ScriptRunContext! This warning can be ignored when running in bare mode.\n",
            "2025-03-23 13:05:20.494 Thread 'MainThread': missing ScriptRunContext! This warning can be ignored when running in bare mode.\n",
            "2025-03-23 13:05:20.495 Thread 'MainThread': missing ScriptRunContext! This warning can be ignored when running in bare mode.\n",
            "2025-03-23 13:05:20.496 Thread 'MainThread': missing ScriptRunContext! This warning can be ignored when running in bare mode.\n",
            "2025-03-23 13:05:20.497 Thread 'MainThread': missing ScriptRunContext! This warning can be ignored when running in bare mode.\n",
            "2025-03-23 13:05:20.498 Thread 'MainThread': missing ScriptRunContext! This warning can be ignored when running in bare mode.\n",
            "2025-03-23 13:05:20.500 Thread 'MainThread': missing ScriptRunContext! This warning can be ignored when running in bare mode.\n",
            "2025-03-23 13:05:20.501 Session state does not function when running a script without `streamlit run`\n",
            "2025-03-23 13:05:20.502 Thread 'MainThread': missing ScriptRunContext! This warning can be ignored when running in bare mode.\n",
            "2025-03-23 13:05:20.503 Thread 'MainThread': missing ScriptRunContext! This warning can be ignored when running in bare mode.\n",
            "2025-03-23 13:05:20.508 Thread 'MainThread': missing ScriptRunContext! This warning can be ignored when running in bare mode.\n",
            "2025-03-23 13:05:20.510 Thread 'MainThread': missing ScriptRunContext! This warning can be ignored when running in bare mode.\n",
            "2025-03-23 13:05:20.513 Thread 'MainThread': missing ScriptRunContext! This warning can be ignored when running in bare mode.\n",
            "2025-03-23 13:05:20.514 Thread 'MainThread': missing ScriptRunContext! This warning can be ignored when running in bare mode.\n",
            "2025-03-23 13:05:20.515 Thread 'MainThread': missing ScriptRunContext! This warning can be ignored when running in bare mode.\n",
            "2025-03-23 13:05:20.516 Thread 'MainThread': missing ScriptRunContext! This warning can be ignored when running in bare mode.\n",
            "2025-03-23 13:05:20.517 Thread 'MainThread': missing ScriptRunContext! This warning can be ignored when running in bare mode.\n",
            "2025-03-23 13:05:20.518 Thread 'MainThread': missing ScriptRunContext! This warning can be ignored when running in bare mode.\n",
            "2025-03-23 13:05:20.518 Thread 'MainThread': missing ScriptRunContext! This warning can be ignored when running in bare mode.\n",
            "2025-03-23 13:05:20.519 Thread 'MainThread': missing ScriptRunContext! This warning can be ignored when running in bare mode.\n",
            "2025-03-23 13:05:20.520 Thread 'MainThread': missing ScriptRunContext! This warning can be ignored when running in bare mode.\n",
            "2025-03-23 13:05:20.521 Thread 'MainThread': missing ScriptRunContext! This warning can be ignored when running in bare mode.\n",
            "2025-03-23 13:05:20.522 Thread 'MainThread': missing ScriptRunContext! This warning can be ignored when running in bare mode.\n",
            "2025-03-23 13:05:20.523 Thread 'MainThread': missing ScriptRunContext! This warning can be ignored when running in bare mode.\n",
            "2025-03-23 13:05:20.524 Thread 'MainThread': missing ScriptRunContext! This warning can be ignored when running in bare mode.\n",
            "2025-03-23 13:05:20.524 Thread 'MainThread': missing ScriptRunContext! This warning can be ignored when running in bare mode.\n",
            "2025-03-23 13:05:20.525 Thread 'MainThread': missing ScriptRunContext! This warning can be ignored when running in bare mode.\n"
          ]
        }
      ]
    },
    {
      "cell_type": "code",
      "source": [
        "!streamlit run /content/app_1.py & npx localtunnel --port 8501"
      ],
      "metadata": {
        "id": "NDTfrM3THDlj"
      },
      "execution_count": null,
      "outputs": []
    }
  ],
  "metadata": {
    "colab": {
      "provenance": []
    },
    "kernelspec": {
      "display_name": "Python 3",
      "name": "python3"
    },
    "language_info": {
      "name": "python"
    }
  },
  "nbformat": 4,
  "nbformat_minor": 0
}